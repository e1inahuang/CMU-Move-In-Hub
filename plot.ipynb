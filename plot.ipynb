{
 "cells": [
  {
   "cell_type": "code",
   "outputs": [],
   "source": [
    "import os\n",
    "import pandas as pd\n",
    "import matplotlib.pyplot as plt"
   ],
   "metadata": {
    "collapsed": false,
    "ExecuteTime": {
     "end_time": "2024-10-09T15:21:30.539508Z",
     "start_time": "2024-10-09T15:21:30.535508Z"
    }
   },
   "id": "b475b7162ca21f88",
   "execution_count": 67
  },
  {
   "cell_type": "code",
   "outputs": [],
   "source": [
    "long_apart_df = pd.read_csv('data/long_term_housing.csv')\n",
    "long_room_df = pd.read_csv('data/apartments_detail.csv')\n",
    "hotel_df = pd.read_csv('data/hotel.csv')\n",
    "airbnb_df = pd.read_csv('data/airbnb.csv')"
   ],
   "metadata": {
    "collapsed": false,
    "ExecuteTime": {
     "end_time": "2024-10-09T15:21:30.561334Z",
     "start_time": "2024-10-09T15:21:30.543500Z"
    }
   },
   "id": "99c9e6f50b75dd59",
   "execution_count": 68
  },
  {
   "cell_type": "code",
   "outputs": [],
   "source": [
    "static_folder = 'static'\n",
    "if not os.path.exists(static_folder):\n",
    "    os.makedirs(static_folder)"
   ],
   "metadata": {
    "collapsed": false,
    "ExecuteTime": {
     "end_time": "2024-10-09T15:21:30.566543Z",
     "start_time": "2024-10-09T15:21:30.562382Z"
    }
   },
   "id": "dbcb2f58548aa981",
   "execution_count": 69
  },
  {
   "cell_type": "code",
   "outputs": [],
   "source": [
    "# In airbnb_df, turn Price from $1,000 to 1000\n",
    "airbnb_df['Price'] = airbnb_df['Price'].str.replace('$', '').str.replace(',', '').astype(float)"
   ],
   "metadata": {
    "collapsed": false,
    "ExecuteTime": {
     "end_time": "2024-10-09T15:21:30.572863Z",
     "start_time": "2024-10-09T15:21:30.567592Z"
    }
   },
   "id": "11117d5d2a05855e",
   "execution_count": 70
  },
  {
   "cell_type": "code",
   "outputs": [],
   "source": [
    "# Visualize the price distribution of Airbnb, save as airbnb_price.png in static folder\n",
    "plt.figure(figsize=(6, 5))\n",
    "plt.hist(airbnb_df['Price'], bins=30, edgecolor='black')\n",
    "plt.xlabel('Price($/night)')\n",
    "plt.ylabel('Frequency')\n",
    "\n",
    "plt.savefig(os.path.join(static_folder, 'airbnb_price.png'), dpi=500)\n",
    "plt.close()"
   ],
   "metadata": {
    "collapsed": false,
    "ExecuteTime": {
     "end_time": "2024-10-09T15:27:26.374321Z",
     "start_time": "2024-10-09T15:27:25.877073Z"
    }
   },
   "id": "a8d7712effbf2518",
   "execution_count": 80
  },
  {
   "cell_type": "code",
   "outputs": [],
   "source": [
    "# In hotel_df, turn Price from $1,000 to 1000\n",
    "hotel_df['Price'] = hotel_df['Price'].str.replace('$', '').str.replace(',', '').astype(float)"
   ],
   "metadata": {
    "collapsed": false,
    "ExecuteTime": {
     "end_time": "2024-10-09T15:21:30.695388Z",
     "start_time": "2024-10-09T15:21:30.690035Z"
    }
   },
   "id": "d65384612bc4cf7e",
   "execution_count": 72
  },
  {
   "cell_type": "code",
   "outputs": [],
   "source": [
    "# Visualize the price distribution of Hotel, save as hotel_price.png in static folder\n",
    "plt.figure(figsize=(6, 5))\n",
    "plt.hist(hotel_df['Price'], bins=30, edgecolor='black')\n",
    "plt.xlabel('Price($/night)')\n",
    "plt.ylabel('Frequency')\n",
    "\n",
    "plt.savefig(os.path.join(static_folder, 'hotel_price.png'), dpi=500)\n",
    "plt.close()"
   ],
   "metadata": {
    "collapsed": false,
    "ExecuteTime": {
     "end_time": "2024-10-09T15:27:12.968454Z",
     "start_time": "2024-10-09T15:27:12.395222Z"
    }
   },
   "id": "66bee243930121c1",
   "execution_count": 78
  },
  {
   "cell_type": "code",
   "outputs": [],
   "source": [
    "long_room_df_copy = long_room_df.copy(deep=True)\n",
    "\n",
    "# Remove rows where 'Unit Price' contains 'Call for Rent' or 'Person'\n",
    "long_room_df_copy = long_room_df_copy[~long_room_df_copy['Unit Price'].str.contains('Call for Rent|Person', regex=True)]\n",
    "\n",
    "# Turn price from \"$1,395\" to 1395\n",
    "long_room_df_copy['Unit Price'] = long_room_df_copy['Unit Price'].str.replace(r'[\\$,]', '', regex=True)\n",
    "\n",
    "# For ranges (e.g., '$2,449 – $3,375'), calculate the average\n",
    "def calculate_average(price_range):\n",
    "    if '–' in price_range:\n",
    "        values = price_range.split('–')\n",
    "        values = [float(value.strip()) for value in values]\n",
    "        return sum(values) / len(values)\n",
    "    return float(price_range)\n",
    "\n",
    "# Apply the average calculation function to the 'Unit Price' column\n",
    "long_room_df_copy['Unit Price'] = long_room_df_copy['Unit Price'].apply(calculate_average)"
   ],
   "metadata": {
    "collapsed": false,
    "ExecuteTime": {
     "end_time": "2024-10-09T15:21:30.832903Z",
     "start_time": "2024-10-09T15:21:30.819231Z"
    }
   },
   "id": "d3078b29d5423628",
   "execution_count": 74
  },
  {
   "cell_type": "code",
   "outputs": [
    {
     "data": {
      "text/plain": "0       1395\n1       1415\n2       1440\n3       1450\n4       1500\n        ... \n1626     460\n1627     645\n1628     695\n1629     475\n1630     441\nName: Unit Price, Length: 1541, dtype: int32"
     },
     "execution_count": 75,
     "metadata": {},
     "output_type": "execute_result"
    }
   ],
   "source": [
    "# Adjust the 'Unit Price' based on the 'Room Type' column\n",
    "def adjust_price_based_on_room_type(row):\n",
    "    room_type = row['Room Type'].lower()  # Convert to lowercase for case-insensitive comparison\n",
    "    unit_price = row['Unit Price']\n",
    "    \n",
    "    if '2 bed' in room_type:\n",
    "        return unit_price / 2\n",
    "    elif '3 bed' in room_type:\n",
    "        return unit_price / 3\n",
    "    elif '4 bed' in room_type:\n",
    "        return unit_price / 4\n",
    "    else:\n",
    "        return unit_price\n",
    "\n",
    "# Apply the adjustment function to the 'Unit Price' column\n",
    "long_room_df_copy['Unit Price'] = long_room_df_copy.apply(adjust_price_based_on_room_type, axis=1)\n",
    "\n",
    "# Turn to int\n",
    "long_room_df_copy['Unit Price'] = long_room_df_copy['Unit Price'].astype(int)"
   ],
   "metadata": {
    "collapsed": false,
    "ExecuteTime": {
     "end_time": "2024-10-09T15:21:30.860473Z",
     "start_time": "2024-10-09T15:21:30.833904Z"
    }
   },
   "id": "6e0d7e737456d37a",
   "execution_count": 75
  },
  {
   "cell_type": "code",
   "outputs": [],
   "source": [
    "# Visualize the price distribution of Long Term Room, save as long_price.png in static folder\n",
    "plt.figure(figsize=(6, 5))\n",
    "plt.hist(long_room_df_copy['Unit Price'], bins=30, edgecolor='black')\n",
    "plt.xlabel('Price($/month)')\n",
    "plt.ylabel('Frequency')\n",
    "\n",
    "plt.savefig(os.path.join(static_folder, 'long_price.png'), dpi=500)\n",
    "plt.close()"
   ],
   "metadata": {
    "collapsed": false,
    "ExecuteTime": {
     "end_time": "2024-10-09T15:27:22.040356Z",
     "start_time": "2024-10-09T15:27:21.499707Z"
    }
   },
   "id": "8aba2a855c146ff3",
   "execution_count": 79
  },
  {
   "cell_type": "code",
   "outputs": [],
   "source": [],
   "metadata": {
    "collapsed": false,
    "ExecuteTime": {
     "end_time": "2024-10-09T15:21:30.982637Z",
     "start_time": "2024-10-09T15:21:30.979971Z"
    }
   },
   "id": "c1c221911491169d",
   "execution_count": 76
  }
 ],
 "metadata": {
  "kernelspec": {
   "display_name": "Python 3",
   "language": "python",
   "name": "python3"
  },
  "language_info": {
   "codemirror_mode": {
    "name": "ipython",
    "version": 2
   },
   "file_extension": ".py",
   "mimetype": "text/x-python",
   "name": "python",
   "nbconvert_exporter": "python",
   "pygments_lexer": "ipython2",
   "version": "2.7.6"
  }
 },
 "nbformat": 4,
 "nbformat_minor": 5
}
